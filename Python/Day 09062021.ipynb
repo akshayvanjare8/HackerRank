{
 "cells": [
  {
   "cell_type": "markdown",
   "id": "f0bffcd9",
   "metadata": {},
   "source": [
    "# **Task** \n",
    "\n",
    "Given an integer, n, perform the following conditional actions:\n",
    "\n",
    "* If n is odd, print Weird\n",
    "* If n is even and in the inclusive range of 2 to 5, print Not Weird\n",
    "* If n is even and in the inclusive range of 6 to 20, print Weird\n",
    "* If n is even and greater than 20, print Not Weird"
   ]
  },
  {
   "cell_type": "code",
   "execution_count": 6,
   "id": "7cbcc720",
   "metadata": {},
   "outputs": [
    {
     "name": "stdout",
     "output_type": "stream",
     "text": [
      "Give Value of n: 95\n",
      "Weird\n"
     ]
    }
   ],
   "source": [
    "n = int(input(\"Give Value of n: \"))\n",
    "\n",
    "if n % 2 != 0:\n",
    "    print(\"Weird\")\n",
    "    if n >= 2 and n <= 5:\n",
    "        print(\"Not Weird\")\n",
    "        if n >= 6 and n <= 20:\n",
    "            print(\"Weird\")\n",
    "            if n >= 20:\n",
    "                print(\"Not Weird\")"
   ]
  },
  {
   "cell_type": "markdown",
   "id": "36bdafcc",
   "metadata": {},
   "source": [
    "# **Task**\n",
    "\n",
    "The provided code stub reads two integers from STDIN, a and b. Add code to print three lines where:\n",
    "* The first line contains the sum of the two numbers.\n",
    "* The second line contains the difference of the two numbers (first - second).\n",
    "* The third line contains the product of the two numbers.\n",
    "\n",
    "##### Example \n",
    "##### a = 3\n",
    "##### b = 5\n"
   ]
  },
  {
   "cell_type": "code",
   "execution_count": 4,
   "id": "7980c878",
   "metadata": {},
   "outputs": [
    {
     "name": "stdout",
     "output_type": "stream",
     "text": [
      "Value of a: 3\n",
      "Value of b: 5\n",
      "8\n",
      "-2\n",
      "15\n"
     ]
    }
   ],
   "source": [
    "a = int(input(\"Value of a: \"))\n",
    "b = int(input(\"Value of b: \"))\n",
    "\n",
    "print(a + b)\n",
    "print(a - b)\n",
    "print(a * b) "
   ]
  },
  {
   "cell_type": "markdown",
   "id": "f36623bb",
   "metadata": {},
   "source": [
    "# **Task**\n",
    "\n",
    "The provided code stub reads two integers, a and b, from STDIN.\n",
    "Add logic to print two lines. The first line should contain the result of integer division, a // b. The second line should contain the result of float division, a / b.\n",
    "No rounding or formatting is necessary.\n",
    "\n",
    "##### Sample Input 0\n",
    "##### 4\n",
    "##### 3\n",
    "\n",
    "##### Sample Output 0\n",
    "##### 1\n",
    "##### 1.33333333333 "
   ]
  },
  {
   "cell_type": "code",
   "execution_count": 5,
   "id": "ee5d9dfb",
   "metadata": {},
   "outputs": [
    {
     "name": "stdout",
     "output_type": "stream",
     "text": [
      "Value of a: 4\n",
      "Value of b: 3\n",
      "1\n",
      "1.3333333333333333\n"
     ]
    }
   ],
   "source": [
    "a = int(input(\"Value of a: \"))\n",
    "b = int(input(\"Value of b: \"))\n",
    "\n",
    "print(a // b)\n",
    "print(a / b)"
   ]
  },
  {
   "cell_type": "markdown",
   "id": "15e4470b",
   "metadata": {},
   "source": [
    "# **Task** \n",
    "\n",
    "The provided code stub reads and integer, n, from STDIN. For all non-negative integers i < n, print i^2.\n",
    "\n",
    "##### Sample Input 0\n",
    "##### 5\n",
    "##### Sample Output 0\n",
    "##### 0\n",
    "##### 1\n",
    "##### 4\n",
    "##### 9\n",
    "##### 16"
   ]
  },
  {
   "cell_type": "code",
   "execution_count": 7,
   "id": "42f48255",
   "metadata": {},
   "outputs": [
    {
     "name": "stdout",
     "output_type": "stream",
     "text": [
      "Give value of n: 5\n",
      "0\n",
      "1\n",
      "4\n",
      "9\n",
      "16\n"
     ]
    }
   ],
   "source": [
    "n = int(input(\"Give value of n: \"))\n",
    "\n",
    "for i in range(n):\n",
    "    if i < n:\n",
    "        print(i*i)"
   ]
  },
  {
   "cell_type": "markdown",
   "id": "8497547d",
   "metadata": {},
   "source": [
    "# Task\n",
    "Given a year, determine whether it is a leap year. If it is a leap year, return the Boolean True, otherwise return False.\n",
    "Note that the code stub provided reads from STDIN and passes arguments to the is_leap function. It is only necessary to complete the is_leap function.\n",
    "\n",
    "##### Sample Input 0\n",
    "##### 1990\n",
    "##### Sample Output 0\n",
    "##### False\n",
    "##### Explanation 0\n",
    "1990 is not a multiple of 4 hence it's not a leap year."
   ]
  },
  {
   "cell_type": "code",
   "execution_count": 9,
   "id": "95bb913f",
   "metadata": {},
   "outputs": [
    {
     "name": "stdout",
     "output_type": "stream",
     "text": [
      "Enter a Year: 1990\n",
      "False\n"
     ]
    }
   ],
   "source": [
    "def is_leap(year):\n",
    "    leap = []\n",
    "    \n",
    "    # Write your logic here\n",
    "    if (year % 400 == 0):\n",
    "        return True\n",
    "    if (year % 100 == 0):\n",
    "        return leap\n",
    "    if (year % 4 == 0):\n",
    "        return True\n",
    "    else:\n",
    "        return False  \n",
    "    \n",
    "    return leap \n",
    "\n",
    "year = int(input(\"Enter a Year: \"))\n",
    "\n",
    "print(is_leap(year))"
   ]
  },
  {
   "cell_type": "markdown",
   "id": "6a58accd",
   "metadata": {},
   "source": [
    "# Task \n",
    "\n",
    "The included code stub will read an integer, n, from STDIN.\n",
    "Without using any string methods, try to print the following: 123...n \n",
    "  \n",
    "Note that \"...\" represents the consecutive values in between.\n",
    "\n",
    "##### Sample Input 0\n",
    "##### 3\n",
    "##### Sample Output 0\n",
    "##### 123"
   ]
  },
  {
   "cell_type": "code",
   "execution_count": 12,
   "id": "ceb8c17b",
   "metadata": {},
   "outputs": [
    {
     "name": "stdout",
     "output_type": "stream",
     "text": [
      "Enter value of n: 3\n",
      "123"
     ]
    }
   ],
   "source": [
    "n = int(input(\"Enter value of n: \"))\n",
    "\n",
    "for i in range(n):\n",
    "    print(i+1, end = \"\")"
   ]
  },
  {
   "cell_type": "markdown",
   "id": "f0d9507b",
   "metadata": {},
   "source": [
    "# Task \n",
    "\n",
    "##### Sample Input 0\n",
    "##### 1\n",
    "##### 1\n",
    "##### 1\n",
    "##### 2\n",
    "##### Sample Output 0\n",
    "##### [[0, 0, 0], [0, 0, 1], [0, 1, 0], [1, 0, 0], [1, 1, 1]]\n",
    "##### Explanation 0\n",
    "Each variable x, y and z will have values of 0 or 1. All permutations of lists in the form \n",
    "\n",
    "[i,j,k] = [[0, 0, 0], [0, 0, 1], [0, 1, 0], [1, 0, 0], [1, 1, 1]].\n",
    "\n",
    "Remove all arrays that sum to n = 2 to leave only the valid permutations."
   ]
  },
  {
   "cell_type": "code",
   "execution_count": 17,
   "id": "8dbafbe7",
   "metadata": {},
   "outputs": [
    {
     "name": "stdout",
     "output_type": "stream",
     "text": [
      "Enter value of x: 1\n",
      "Enter value of y: 1\n",
      "Enter value of z: 1\n",
      "Enter value of n: 2\n",
      "[[0, 0, 0], [0, 0, 1], [0, 1, 0], [1, 0, 0], [1, 1, 1]]\n",
      "[0, 0, 0]\n",
      "[0, 0, 1]\n",
      "[0, 1, 0]\n",
      "[1, 0, 0]\n",
      "[1, 1, 1]\n"
     ]
    }
   ],
   "source": [
    "x = int(input(\"Enter value of x: \"))\n",
    "y = int(input(\"Enter value of y: \"))\n",
    "z = int(input(\"Enter value of z: \"))\n",
    "n = int(input(\"Enter value of n: \"))\n",
    "\n",
    "arr = [[X, Y, Z] for X in range(x + 1)\n",
    "       for Y in range(y + 1) \n",
    "       for Z in range(z + 1) \n",
    "       if X + Y + Z != n]\n",
    "\n",
    "print(arr)\n",
    "\n",
    "# OR \n",
    "\n",
    "for x in range(x + 1):\n",
    "    for y in range(y + 1):\n",
    "        for z in range(z + 1):\n",
    "            if x + y + z != n:\n",
    "                print([x,y,z])"
   ]
  },
  {
   "cell_type": "markdown",
   "id": "53cbd67a",
   "metadata": {},
   "source": [
    "# Task \n",
    "\n",
    "Given the participants' score sheet for your University Sports Day, you are required to find the runner-up score. You are given n scores. Store them in a list and find the score of the runner-up.\n",
    "\n",
    "##### Sample Input 0\n",
    "##### 5\n",
    "##### 2 3 6 6 5\n",
    "##### Sample Output 0\n",
    "##### 5\n",
    "##### Explanation 0\n",
    "Given list is . The maximum score is , second maximum is . Hence, we print  as the runner-up score."
   ]
  },
  {
   "cell_type": "code",
   "execution_count": 3,
   "id": "e1a62092",
   "metadata": {
    "scrolled": false
   },
   "outputs": [
    {
     "name": "stdout",
     "output_type": "stream",
     "text": [
      "Enter a number of n: 5\n",
      "2 3 6 6 5\n",
      "6\n"
     ]
    }
   ],
   "source": [
    "n = int(input(\"Enter a number of n: \"))\n",
    "arr = map(int, input().split())\n",
    "\n",
    "x = set(arr)\n",
    "x = list(arr)\n",
    "x.sort(reverse=True)\n",
    "\n",
    "print(x[1])"
   ]
  },
  {
   "cell_type": "code",
   "execution_count": null,
   "id": "392f0af0",
   "metadata": {},
   "outputs": [],
   "source": []
  }
 ],
 "metadata": {
  "kernelspec": {
   "display_name": "Python 3",
   "language": "python",
   "name": "python3"
  },
  "language_info": {
   "codemirror_mode": {
    "name": "ipython",
    "version": 3
   },
   "file_extension": ".py",
   "mimetype": "text/x-python",
   "name": "python",
   "nbconvert_exporter": "python",
   "pygments_lexer": "ipython3",
   "version": "3.8.3"
  }
 },
 "nbformat": 4,
 "nbformat_minor": 5
}
