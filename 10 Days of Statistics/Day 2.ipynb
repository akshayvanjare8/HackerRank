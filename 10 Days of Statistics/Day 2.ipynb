{
 "cells": [
  {
   "cell_type": "markdown",
   "id": "a32f133e",
   "metadata": {},
   "source": [
    "# Basic Probability"
   ]
  },
  {
   "cell_type": "markdown",
   "id": "874c7f2b",
   "metadata": {},
   "source": [
    "#### Objective\n",
    "In this challenge, we practice calculating probability. Check out the Tutorial tab for a breakdown of probability fundamentals!\n",
    "#### Task\n",
    "In a single toss of 2 fair (evenly-weighted) six-sided dice, find the probability that their sum will be at most 9.\n",
    "    \n",
    "    1. <p>2 / 3</p>\n",
    "    \n",
    "    2. <p>5 / 6</p>\n",
    "    \n",
    "    3. <p>1 / 4</p>\n",
    "    \n",
    "    4. <p>1 / 6</p>\n",
    "    \n",
    "You have 3 attempts left."
   ]
  },
  {
   "cell_type": "markdown",
   "id": "d47c6d28",
   "metadata": {},
   "source": [
    "**Full Question :** https://www.hackerrank.com/challenges/s10-mcq-1/problem"
   ]
  },
  {
   "cell_type": "markdown",
   "id": "afec026f",
   "metadata": {},
   "source": [
    "**Ans :** sample spece for 2 fair = {(1,1),(1,2),(1,3),(1,4),(1,5),(1,6)\n",
    "                           (2,1),(2,2),(2,3),(2,4),(2,5),(2,6)\n",
    "                           (3,1),(3,2),(3,3),(3,4),(3,5),(3,6)\n",
    "                           (4,1),(4,2),(4,3),(4,4),(4,5),(4,6)\n",
    "                           (5,1),(5,2),(5,3),(5,4),(5,5),(5,6)\n",
    "                           (6,1),(6,2),(6,3),(6,4),(6,5),(6,6)}\n",
    "                        = 36\n",
    "Now,\n",
    "\n",
    "Sum of 9 = {(3,6),(4,5),(5,4),(6,3)} = 4\n",
    "\n",
    "First, to get our feet on the ground, we must understand what probabilities are about. They are about Events. An event is a binary variable: either something happens or it doesn’t. And we don’t know for sure whether it will or won’t. There is uncertainty, and that is crucial to probabilities.\n",
    "\n",
    "A probability measures how likely it is that a particular event will happen.\n",
    "\n",
    "An event should be something concrete, observable, that you can definitely say whether it happens or not. It usually happens as the result of an experiment, that will end up in one of several different states.\n",
    "\n",
    "Examples of events are\n",
    "\n",
    "it will rain tomorrow\n",
    "Real Madrid will win the Champions League this year\n",
    "the cat will be alive when I open this box\n",
    "I will get 5 tails in 5 consecutive tosses of a coin\n",
    "This post is only about probabilities of uniform discrete distributions. It just means we can count the number of states the experiment can reach, and that each state is equally likely.\n",
    "\n",
    "The basic notion of discrete probability that should serve as the guiding light in any problem is this:\n",
    "\n",
    "The Probability of an event is the number of final states of the experiment in which the event happens divided by the total number of possible final states.\n",
    "\n",
    "Or, for short: “number of favourable cases over total number of cases”. Remember that.\n",
    "\n",
    "For this task, we identify the following:\n",
    "\n",
    "Experiment: throw two fair six-sided dice\n",
    "Random variable: sum of the sides shown by each die\n",
    "Event: the value of the random variable is between 2 and 9\n",
    "Let’s apply the principle above and start by counting the total number of cases. Each die has six sides, and the side showing on one does not influence the side showing on the other. So, there are 6 x 6 = 36 cases.\n",
    "\n",
    "How many of these are favourable cases?\n",
    "\n",
    "The problem does not say these dice are out of the ordinary, so we assume they are numbered as standard, from 1 to 6. Then, we can divide our favourable cases by each of the possible states of the first die. For example, if the first die shows a 1, all states of the second die (1 to 6) lead to a sum at most equal to 9.\n",
    "\n",
    "6 (max = 7)\n",
    "6 (max = 8)\n",
    "6 (max = 9)\n",
    "5\n",
    "4\n",
    "3\n",
    "Total: 30\n",
    "\n",
    "The result is then 30/36 = **5/6**."
   ]
  },
  {
   "cell_type": "markdown",
   "id": "3a71e974",
   "metadata": {},
   "source": [
    "# More Dice "
   ]
  },
  {
   "cell_type": "markdown",
   "id": "194e630e",
   "metadata": {},
   "source": [
    "#### Objective\n",
    "In this challenge, we practice calculating probability. We recommend you review the previous challenge's Tutorial before attempting this problem.\n",
    "#### Task\n",
    "In a single toss of 2 fair (evenly-weighted) six-sided dice, find the probability that the values rolled by each die will be different and the two dice have a sum of 6.\n",
    "    \n",
    "    1. 1 / 9\n",
    "    \n",
    "    2. 1 / 6\n",
    "    \n",
    "    3. 2 / 3\n",
    "    \n",
    "    4. 5 / 6"
   ]
  },
  {
   "cell_type": "markdown",
   "id": "4f863597",
   "metadata": {},
   "source": [
    "**Full Question :** https://www.hackerrank.com/challenges/s10-mcq-2/problem"
   ]
  },
  {
   "cell_type": "markdown",
   "id": "5533b2ae",
   "metadata": {},
   "source": [
    "**Ans :** There is a new complication in this problem. There are two conditions: the dice will show different numbers, and their sum is 6.\n",
    "\n",
    "Following the previous challenge, we could compute the probability of the event E = “the sum is 6”.\n",
    "\n",
    "We can easily see we have 5 favourable cases: for each value on the first die, except for 6, there is a single value on the second one that makes the sum equal to 6. But we have to consider now the first condition, that creates a sub-event of E: of those 6 cases, we cannot accept those where both dice are equal. There can only be one such case, when both dice show 3. Therefore, we have only 4 favourable cases.\n",
    "\n",
    "Applying the basic principle, the probability is 4/36 = **1/9**."
   ]
  },
  {
   "cell_type": "markdown",
   "id": "7cd92836",
   "metadata": {},
   "source": [
    "# Compound Event Probability"
   ]
  },
  {
   "cell_type": "markdown",
   "id": "2e76aeb9",
   "metadata": {},
   "source": [
    "#### Objective\n",
    "In this challenge, we practice calculating the probability of a compound event. We recommend you review today's Probability Tutorial before attempting this challenge.\n",
    "#### Task\n",
    "There are 3 urns labeled X, Y, and Z.\n",
    "Urn X contains 4 red balls and 3 black balls.\n",
    "Urn Y contains 5 red balls and 4 black balls.\n",
    "Urn Z contains 4 red balls and 4 black balls.\n",
    "One ball is drawn from each of the  urns. What is the probability that, of the  balls drawn,  are red and  is black?\n",
    "    \n",
    "    1. 10 / 63\n",
    "    2. 2 / 7\n",
    "    3. 17 / 42\n",
    "    4. 31 / 126"
   ]
  },
  {
   "cell_type": "markdown",
   "id": "2ee980ec",
   "metadata": {},
   "source": [
    "**Ans :** One ball is drawn from each of the 3 urns. What is the probability that, of the 3 balls drawn, 2 are red and 1 is black?\n",
    "\n",
    "This is a more interesting problem than the first 2, and belongs to a very popular class of problems: one of counting favourable permutations / combinations / arrangements of some objects.\n",
    "\n",
    "Experiment: Take one ball from each of the urns\n",
    "Random Variable: number of red balls in the experiment’s final state\n",
    "Event: the variable’s value is exactly 2.\n",
    "Let’s apply the basic principle again: we want to count the number of favourable cases and the total number of cases. I always prefer to start by the latter, because in counting all the cases I am forced to see the problem as a whole: to understand what its universe is, and where its variables are. I may even see what techniques to apply to count the favourable cases.\n",
    "\n",
    "Total cases: there are 7 balls in one of the urns, 8 in another and 9 in another. We can draw each of these for each urn, with equal likelihood. So, we have 7 x 8 x 9 = 504 cases.\n",
    "\n",
    "The interesting part is to count favourable cases. We know a success case is one where we have exactly 2 Red balls. Since we have 3 urns and 2 colours inside each urn, the number of different sequences we can get is 2^3 = 8:\n",
    "\n",
    "0 Reds: BBB,\n",
    "\n",
    "1 Red: RBB, BRB, BBR\n",
    "\n",
    "2 Reds: RRB, RBR, BRR\n",
    "\n",
    "3 Reds: RRR\n",
    "\n",
    "So we only need to count the cases that correspond to 3 different sequences.\n",
    "\n",
    "RRB:\n",
    "\n",
    "We can have any of the red balls in urn 1 (4),\n",
    "\n",
    "and any of the red balls in urn 2 (5),\n",
    "\n",
    "and any of the black balls in urn 3 (4).\n",
    "\n",
    "Since these balls are all indistinguishable, we can have 4 x 5 x 4 variants = 80.\n",
    "\n",
    "RBR:\n",
    "\n",
    "Following the same strategy, the number of favourable cases for this sequence is 4 x 4 x 4 = 64.\n",
    "\n",
    "BRR:\n",
    "\n",
    "Finally, for the third sequence we have this number of favourable cases: 3 x 5 x 4 = 60.\n",
    "\n",
    "Total number of favourable cases: 80 + 64 + 60 = 204.\n",
    "\n",
    "Final probability = 204 / 504 = **17/42**."
   ]
  }
 ],
 "metadata": {
  "kernelspec": {
   "display_name": "Python 3",
   "language": "python",
   "name": "python3"
  },
  "language_info": {
   "codemirror_mode": {
    "name": "ipython",
    "version": 3
   },
   "file_extension": ".py",
   "mimetype": "text/x-python",
   "name": "python",
   "nbconvert_exporter": "python",
   "pygments_lexer": "ipython3",
   "version": "3.8.3"
  }
 },
 "nbformat": 4,
 "nbformat_minor": 5
}
