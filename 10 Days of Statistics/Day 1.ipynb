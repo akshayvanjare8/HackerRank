{
 "cells": [
  {
   "cell_type": "markdown",
   "id": "4b7a132b",
   "metadata": {},
   "source": [
    "# Quartiles"
   ]
  },
  {
   "cell_type": "markdown",
   "id": "fb568cb6",
   "metadata": {},
   "source": [
    "#### Sample Input\n",
    "|STDIN                 |Function                             |\n",
    "|----------------------|-------------------------------------|    \n",
    "|9                     |arr[] size n = 9                     |\n",
    "|3 7 8 5 12 14 21 13 18|arr = [3, 7, 8, 5, 12, 14, 21, 13,18]|\n",
    "\n",
    "#### Sample Output\n",
    "6\n",
    "\n",
    "12\n",
    "\n",
    "16"
   ]
  },
  {
   "cell_type": "markdown",
   "id": "529bff05",
   "metadata": {},
   "source": [
    "**Full Question :** https://www.hackerrank.com/challenges/s10-quartiles/problem"
   ]
  },
  {
   "cell_type": "code",
   "execution_count": 1,
   "id": "609e2055",
   "metadata": {},
   "outputs": [
    {
     "name": "stdout",
     "output_type": "stream",
     "text": [
      "9\n",
      "3 7 8 5 12 14 21 13 18\n",
      "6\n",
      "12\n",
      "16\n"
     ]
    }
   ],
   "source": [
    "# Enter your code here. Read input from STDIN. Print output to STDOUT\n",
    "\n",
    "n = int(input())\n",
    "x = sorted(list(map(int, input().split())))\n",
    "\n",
    "from statistics import median \n",
    "\n",
    "print(int(median(x[:n//2])))\n",
    "print(int(median(x)))\n",
    "print(int(median(x[(n+1)//2:])))"
   ]
  },
  {
   "cell_type": "markdown",
   "id": "e10960c2",
   "metadata": {},
   "source": [
    "# Interquartile Range"
   ]
  },
  {
   "cell_type": "markdown",
   "id": "952232be",
   "metadata": {},
   "source": [
    "#### Sample Input\n",
    "|STDIN           |Function                       |\n",
    "|----------------|-------------------------------|\n",
    "|6               |arrays size n = 6              |\n",
    "|6 12 8 10 20 16 |values = [6, 12, 8, 10, 20, 16]|\n",
    "|5 4 3 2 1 5     |freqs = [5, 4, 3, 2, 1, 5]     |\n",
    "\n",
    "#### Sample Output\n",
    "9.0"
   ]
  },
  {
   "cell_type": "markdown",
   "id": "d233d5cd",
   "metadata": {},
   "source": [
    "**Full Question :** https://www.hackerrank.com/challenges/s10-interquartile-range/problem"
   ]
  },
  {
   "cell_type": "code",
   "execution_count": 5,
   "id": "c6eeafdb",
   "metadata": {},
   "outputs": [
    {
     "name": "stdout",
     "output_type": "stream",
     "text": [
      "6\n",
      "6 12 8 10 20 16\n",
      "8\n"
     ]
    }
   ],
   "source": [
    "# Enter your code here. Read input from STDIN. Print output to STDOUT\n",
    "n = int(input())\n",
    "x = sorted(list(map(int, input().split())))\n",
    "\n",
    "from statistics import median \n",
    "\n",
    "Q1 = median(x[:n//2])\n",
    "Q2 = median(x)\n",
    "Q3 = median(x[(n+1)//2:])\n",
    "\n",
    "IQR = Q3 - Q1 \n",
    "print(IQR)"
   ]
  },
  {
   "cell_type": "code",
   "execution_count": 6,
   "id": "a0010168",
   "metadata": {},
   "outputs": [
    {
     "name": "stdout",
     "output_type": "stream",
     "text": [
      "6\n",
      "6 12 8 10 20 16\n",
      "5 4 3 2 1 4\n",
      "8.0\n"
     ]
    }
   ],
   "source": [
    "# Enter your code here. Read input from STDIN. Print output to STDOUT\n",
    "\n",
    "import statistics as st \n",
    "\n",
    "n = int(input())\n",
    "data = list(map(int, input().split()))\n",
    "freq = list(map(int, input().split()))\n",
    "\n",
    "s = []\n",
    "for i in range(n):\n",
    "    s += [data[i]] * freq[i] \n",
    "    \n",
    "N = sum(freq)\n",
    "s.sort()\n",
    "\n",
    "if n%2 != 0:\n",
    "    Q1 = st.median(s[:N//2])\n",
    "    Q3 = st.median(s[N//2+1:])\n",
    "else:\n",
    "    Q1 = st.median(s[:N//2])\n",
    "    Q3 = st.median(s[N//2:]) \n",
    "    \n",
    "IQR = round(float(Q3-Q1), 1)\n",
    "print(IQR)"
   ]
  },
  {
   "cell_type": "markdown",
   "id": "909ff483",
   "metadata": {},
   "source": [
    "# Standard Deviations"
   ]
  },
  {
   "cell_type": "markdown",
   "id": "4fdef16d",
   "metadata": {},
   "source": [
    "#### Sample Input\n",
    "|STDIN           |Function                 |\n",
    "|----------------|-------------------------|\n",
    "|5               |arr[] size n = 5         |\n",
    "|10 40 30 50 20  |arr =[10, 40, 30, 50, 20]|\n",
    "\n",
    "#### Sample Output\n",
    "14.1"
   ]
  },
  {
   "cell_type": "code",
   "execution_count": 9,
   "id": "12acc76c",
   "metadata": {},
   "outputs": [
    {
     "name": "stdout",
     "output_type": "stream",
     "text": [
      "5\n",
      "10 40 30 50 20 \n",
      "14.1\n"
     ]
    }
   ],
   "source": [
    "# Enter your code here. Read input from STDIN. Print output to STDOUT\n",
    "n = int(input().strip())\n",
    "X = [int(x) for x in input().strip().split()]\n",
    "\n",
    "mean = sum(X) / n\n",
    "variance = sum([((x - mean) ** 2) for x in X]) / n\n",
    "stddev = variance ** 0.5\n",
    "print(\"{0:0.1f}\".format(stddev))"
   ]
  }
 ],
 "metadata": {
  "kernelspec": {
   "display_name": "Python 3",
   "language": "python",
   "name": "python3"
  },
  "language_info": {
   "codemirror_mode": {
    "name": "ipython",
    "version": 3
   },
   "file_extension": ".py",
   "mimetype": "text/x-python",
   "name": "python",
   "nbconvert_exporter": "python",
   "pygments_lexer": "ipython3",
   "version": "3.8.3"
  }
 },
 "nbformat": 4,
 "nbformat_minor": 5
}
