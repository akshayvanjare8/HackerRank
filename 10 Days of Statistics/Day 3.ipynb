{
 "cells": [
  {
   "cell_type": "markdown",
   "id": "47d6250c",
   "metadata": {},
   "source": [
    "# Conditional Probability"
   ]
  },
  {
   "cell_type": "markdown",
   "id": "777d4560",
   "metadata": {},
   "source": [
    "#### Objective\n",
    "In this challenge, we get started with conditional probability. Check out the Tutorial tab for learning materials!\n",
    "#### Task\n",
    "Suppose a family has 2 children, one of which is a boy. What is the probability that both children are boys?\n",
    " \n",
    "    1. 1 / 3\n",
    "    \n",
    "    2. 1 / 2\n",
    "    \n",
    "    3. 2 / 3\n",
    "    \n",
    "    4. 1 / 9"
   ]
  },
  {
   "cell_type": "markdown",
   "id": "e7627e4a",
   "metadata": {},
   "source": [
    "**Full Question :** https://www.hackerrank.com/challenges/s10-mcq-4/problem"
   ]
  },
  {
   "cell_type": "markdown",
   "id": "a14b7bd8",
   "metadata": {},
   "source": [
    "**Answer :** the probability of one of the children being a boy is independent of what the other child is, so it will be approximately 1/2.\n",
    "\n",
    "And that is wrong. It’s wrong because in this case we already know partial information, which is “one of the two is a boy”. That restricts our universe.\n",
    "\n",
    "Let’s assume for simplicity that the probability of a child being born a boy or a girl is truly 1/2. Then, a priori, we have 4 cases, each with 1/4 probability. We’d have a uniform distribution over 4 possible arrangements: BB, BG, GB, GG (B=Boy, G=Girl).\n",
    "\n",
    "If the question were “what is the probability that both children are boys?” the answer would be: 1 favourable case over 4 possible cases.\n",
    "\n",
    "But in here, the extra advice eliminates one case: GG, and since the distribution was uniform, all the remaining cases are equally likely. The number of favourable cases is still 1, but the possible cases are now only 3, and by our basic principle of probability, the answer must be 1/3.\n",
    "\n",
    "This is the solution reasoning on first principles. Let’s see how to do that algebraically and making use of the definition of conditional probability.\n",
    "\n",
    "First, I define events:\n",
    "\n",
    "A – both children are boys\n",
    "\n",
    "B – at least one of the children is a boy\n",
    "\n",
    "We want the probability of A given B, which can be written as\n",
    "\n",
    "Pr[A | B] = Pr[A n B] / Pr[B]\n",
    "Now, if event A happens, B must surely happen, so (A n B) must necessarily be the same as A. We can show this by associating each event with its support set:\n",
    "\n",
    "A = {BB},B = {GB, BG, BB}\n",
    "(A n B) = A.\n",
    "Then,\n",
    "\n",
    "Pr[A | B] = Pr[A] / Pr[B] = {1/4}/{3/4} = **1/3**."
   ]
  },
  {
   "cell_type": "markdown",
   "id": "fd99d471",
   "metadata": {},
   "source": [
    "# Cards of the Same Suit"
   ]
  },
  {
   "cell_type": "markdown",
   "id": "116a5c3e",
   "metadata": {},
   "source": [
    "#### Objective\n",
    "In this challenge, we're getting started with combinations and permutations. Check out the Tutorial tab for learning materials!\n",
    "#### Task\n",
    "You draw 2 cards from a standard 52-card deck without replacing them. What is the probability that both cards are of the same suit?\n",
    "\n",
    "     1. 1 / 156\n",
    "     \n",
    "     2. 1 / 39\n",
    "     \n",
    "     3. 12 / 39\n",
    "     \n",
    "     4. 12 / 51"
   ]
  },
  {
   "cell_type": "markdown",
   "id": "8537a393",
   "metadata": {},
   "source": [
    "**Full Question :** https://www.hackerrank.com/challenges/s10-mcq-5/problem"
   ]
  },
  {
   "cell_type": "markdown",
   "id": "bb86bcb8",
   "metadata": {},
   "source": [
    "**Answer :** This problem introduced another concept: counting (permutations, combinations, arrangements). That makes it possible to still reason with the basic principle in mind, although other solutions are possible. First, let’s see the counting method.\n",
    "\n",
    "Let’s count favourable cases and total cases. We look at all possible sequences of drawing cards, taking in consideration that order does not matter. We only draw two cards, so we have 52 \\times 51 / 2 possibilities.\n",
    "\n",
    "Now we need to count how many of these pairs are considered successes. All the suits have the same number of cards, so if we count the number of pairs of one suit and multiply by 4 we will have the total number of successful cases.\n",
    "\n",
    "Fix one suit. The number of pairs of the same kind is the number of combinations of 13 taken 2 at a time. This is \\binom{13}{2} = 13 \\times 12 / 2.\n",
    "\n",
    "The final solution is, as usual, the number of favourable cases over the total number of cases:\n",
    "\n",
    "\\frac{4 \\times 13 \\times 12 / 2}{52 \\times 51 / 2} = \\frac{12}{51}.\n",
    "But there is an easier way to reason. Intuitively, assume you have drawn the first card. No matter what suit it is, for you to win the game you must draw a second card of the same suit. There are only 12 left in the deck, among a total of 51 cards. Your success probability is \\frac{12}{51}.\n",
    "\n",
    "We can make this reasoning precise with some algebra, if we really must.\n",
    "\n",
    "Events:\n",
    "\n",
    "A – first card is of suit X (any one given suit)\n",
    "\n",
    "B – second card is of suit X\n",
    "\n",
    "We want A and B to happen simultaneously, that is, both cards will be of the same suit:\n",
    "\n",
    "\\Pr[A \\cap B] = \\Pr[B | A] \\times\\Pr[A].\n",
    "Now, let’s reason individually.\n",
    "\n",
    "Fix some X. Then,\n",
    "\n",
    "\\Pr[A] = 1/4 since, at the start, every suit has an equal number of cards in the deck.\n",
    "\n",
    "\\Pr[B|A] = 12/51 following exactly the same intuitive reasoning given above.\n",
    "\n",
    "Also, because this is valid for any of the 4 suits, we have to multiply by 4. That is:\n",
    "\n",
    "\\Pr[success] = \\sum_{X in \\{H,D,C,S\\}} \\frac{1}{4} \\times \\frac{12}{51} = 4 \\times \\frac{1}{4} \\times \\frac{12}{51} = **\\frac{12}{51}**."
   ]
  },
  {
   "cell_type": "markdown",
   "id": "905c11dc",
   "metadata": {},
   "source": [
    "# Drawing Marbles"
   ]
  },
  {
   "cell_type": "markdown",
   "id": "7c573d80",
   "metadata": {},
   "source": [
    "#### Objective\n",
    "In this challenge, we're reinforcing what we've learned today. In case you've missed them, today's tutorials are on Conditional Probability and Combinations and Permutations.\n",
    "#### Task\n",
    "A bag contains 3 red marbles and 4 blue marbles. Then, 2 marbles are drawn from the bag, at random, without replacement. If the first marble drawn is red, what is the probability that the second marble is blue?\n",
    "\n",
    "     1. 1 / 12\n",
    "\n",
    "     2. 7 / 12\n",
    "\n",
    "     3. 1 / 6\n",
    "\n",
    "     4. 2 / 3"
   ]
  },
  {
   "cell_type": "markdown",
   "id": "d4000ecc",
   "metadata": {},
   "source": [
    "**Full Question :** https://www.hackerrank.com/challenges/s10-mcq-6/problem"
   ]
  },
  {
   "cell_type": "markdown",
   "id": "8678ddc4",
   "metadata": {},
   "source": [
    "**Answer :** You start with 3 Reds and 4 Blues, and then you take a Red marble. Now, your bag contains:\n",
    "\n",
    "2 Reds\n",
    "4 Blues\n",
    "How likely is it now you are going to take a blue marble?\n",
    "\n",
    "This is first principles again, and quite a simple one at that. You have 4 Blue marbles in a bag with 6 marbles. Your probability is 2/3.\n",
    "\n",
    "If you ask me, it’s a terrible way of testing your knowlege of permutations, conditional probabilities or the Bayes Theorem (yes, it’s in the tutorial, it’s extremely important for Machine Learning and is not required at all by the problems), and any other solution would be over-complicating. That is NOT what you should do in maths, where you should always look for the easiest way to reach a solution. I remember my high-school maths teacher saying “Mathematicians are lazy, they are always looking at ways to simplify things”. That is a good practice, you won’t do badly if you follow it as long as you don’t exaggerate.\n",
    "\n",
    "P.S.:\n",
    "\n",
    "But suppose you really want to solve this in a way that makes use of permutations and conditional probability all at once. How could you do it?\n",
    "\n",
    "Again, and always, apply the basic principle. How many favourable cases and possible cases are there?\n",
    "\n",
    "I first define a couple of events here:\n",
    "\n",
    "A – The second marble is Blue\n",
    "\n",
    "B – The first marble is Red\n",
    "\n",
    "We want\n",
    "\n",
    "\\Pr[A|B] = \\Pr[A \\cap B] / \\Pr[B]\n",
    "To compute \\Pr[B], compute the total and favourable cases:\n",
    "\n",
    "Total cases: we draw two marbles and the order matters. We have 7 possibilities for the first ball and 6 for the second, for a total of 42.\n",
    "\n",
    "Favourable cases: we have 3 possibilities for the first ball (only Red balls), but then we can draw any of the remaining six , for a total of 18.\n",
    "\n",
    "\\Pr[B] = \\frac{18}{42} = \\frac{3}{7}\n",
    "To compute \\Pr[A \\cap B], we consider both events at once: we have 3 possibilities for the first marble and 4 for the second, for a total of 12 cases. Again dividing by the total number of cases we have\n",
    "\n",
    "\\Pr[A \\cap B] = \\frac{12}{42} = \\frac{3}{7}\n",
    "Then, this gives:\n",
    "\n",
    "\\Pr[A|B] = \\Pr[A \\cap B] / \\Pr[B] = \\frac{12}{18} = **\\frac{2}{3}**"
   ]
  },
  {
   "cell_type": "code",
   "execution_count": null,
   "id": "9a2834f1",
   "metadata": {},
   "outputs": [],
   "source": []
  }
 ],
 "metadata": {
  "kernelspec": {
   "display_name": "Python 3",
   "language": "python",
   "name": "python3"
  },
  "language_info": {
   "codemirror_mode": {
    "name": "ipython",
    "version": 3
   },
   "file_extension": ".py",
   "mimetype": "text/x-python",
   "name": "python",
   "nbconvert_exporter": "python",
   "pygments_lexer": "ipython3",
   "version": "3.8.3"
  }
 },
 "nbformat": 4,
 "nbformat_minor": 5
}
