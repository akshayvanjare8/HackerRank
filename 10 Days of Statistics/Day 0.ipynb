{
 "cells": [
  {
   "cell_type": "markdown",
   "id": "bfa2cc48",
   "metadata": {},
   "source": [
    "# Mean, Median, and Mode"
   ]
  },
  {
   "cell_type": "markdown",
   "id": "ec81ba9f",
   "metadata": {},
   "source": [
    "## Sample Input\n",
    "\n",
    "10\n",
    "\n",
    "64630 11735 14216 99233 14470 4978 73429 38120 51135 67060\n",
    "## Sample Output\n",
    "\n",
    "43900.6\n",
    "\n",
    "44627.5\n",
    "\n",
    "4978"
   ]
  },
  {
   "cell_type": "markdown",
   "id": "522e2119",
   "metadata": {},
   "source": [
    "**Full Question :** https://www.hackerrank.com/challenges/s10-basic-statistics/problem"
   ]
  },
  {
   "cell_type": "code",
   "execution_count": 2,
   "id": "3e27733e",
   "metadata": {},
   "outputs": [
    {
     "name": "stdout",
     "output_type": "stream",
     "text": [
      "Enter Size of Samples : 10\n",
      "Enter Samples : 64630 11735 14216 99233 14470 4978 73429 38120 51135 67060\n",
      "43900.6\n",
      "44627.5\n",
      "4978\n"
     ]
    }
   ],
   "source": [
    "# Enter your code here. Read input from STDIN. Print output to STDOUT\n",
    "\n",
    "import numpy as np\n",
    "from scipy import stats\n",
    "\n",
    "size = int(input('Enter Size of Samples : '))\n",
    "numbers = list(map(int, input('Enter Samples : ').split()))\n",
    "\n",
    "print(np.mean(numbers))\n",
    "print(np.median(numbers))\n",
    "print(int(stats.mode(numbers)[0]))"
   ]
  },
  {
   "cell_type": "markdown",
   "id": "2fbf8a63",
   "metadata": {},
   "source": [
    "# Weighted Mean"
   ]
  },
  {
   "cell_type": "markdown",
   "id": "ab0bbb4c",
   "metadata": {},
   "source": [
    "## Sample Input\n",
    "|STDIN         |Function                |\n",
    "|--------------|------------------------|\n",
    "|5             |X[] and W[] size n = 5  |\n",
    "|10 40 30 50 20|X = [10, 40, 30, 50, 20]|  \n",
    "|1 2 3 4 5     |W = [1, 2, 3, 4, 5]     |\n",
    "\n",
    "## Sample Output\n",
    "32.0"
   ]
  },
  {
   "cell_type": "markdown",
   "id": "18e09451",
   "metadata": {},
   "source": [
    "**Full Question :** https://www.hackerrank.com/challenges/s10-weighted-mean/problem"
   ]
  },
  {
   "cell_type": "code",
   "execution_count": 3,
   "id": "6e44a73d",
   "metadata": {},
   "outputs": [
    {
     "name": "stdout",
     "output_type": "stream",
     "text": [
      "5\n",
      "10 40 30 50 20\n",
      "1 2 3 4 5\n",
      "32.0\n"
     ]
    }
   ],
   "source": [
    "N = map(int,input().split())\n",
    "\n",
    "X = list(map(int, input().strip().split(' ')))\n",
    "\n",
    "W = list(map(int, input().strip().split(' ')))\n",
    "\n",
    "sum_X = sum([a*b for a,b in zip(X,W)])\n",
    "\n",
    "print(round((sum_X/sum(W)),1))"
   ]
  },
  {
   "cell_type": "code",
   "execution_count": null,
   "id": "5edd5de2",
   "metadata": {},
   "outputs": [],
   "source": []
  }
 ],
 "metadata": {
  "kernelspec": {
   "display_name": "Python 3",
   "language": "python",
   "name": "python3"
  },
  "language_info": {
   "codemirror_mode": {
    "name": "ipython",
    "version": 3
   },
   "file_extension": ".py",
   "mimetype": "text/x-python",
   "name": "python",
   "nbconvert_exporter": "python",
   "pygments_lexer": "ipython3",
   "version": "3.8.3"
  }
 },
 "nbformat": 4,
 "nbformat_minor": 5
}
